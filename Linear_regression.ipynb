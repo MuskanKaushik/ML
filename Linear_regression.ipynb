{
 "cells": [
  {
   "cell_type": "markdown",
   "metadata": {},
   "source": [
    "# Python Exercise 3 (OPTIONAL)"
   ]
  },
  {
   "cell_type": "code",
   "execution_count": 9,
   "metadata": {},
   "outputs": [],
   "source": [
    "import numpy as np\n",
    "import matplotlib.pyplot as plt\n",
    "from numpy import linalg"
   ]
  },
  {
   "cell_type": "code",
   "execution_count": 10,
   "metadata": {},
   "outputs": [
    {
     "name": "stdout",
     "output_type": "stream",
     "text": [
      "[[1.000e+00 1.400e+01 2.500e+01 6.200e+02]\n",
      " [2.000e+00 2.800e+01 2.500e+01 1.315e+03]\n",
      " [3.000e+00 4.100e+01 2.500e+01 2.120e+03]\n",
      " [4.000e+00 5.500e+01 2.500e+01 2.600e+03]\n",
      " [5.000e+00 6.900e+01 2.500e+01 3.110e+03]\n",
      " [6.000e+00 8.300e+01 2.500e+01 3.535e+03]\n",
      " [7.000e+00 9.700e+01 2.500e+01 3.935e+03]\n",
      " [8.000e+00 1.110e+02 2.500e+01 4.465e+03]\n",
      " [9.000e+00 1.250e+02 2.500e+01 4.530e+03]\n",
      " [1.000e+01 1.390e+02 2.500e+01 4.570e+03]\n",
      " [1.100e+01 1.530e+02 2.500e+01 4.600e+03]\n",
      " [1.200e+01 1.400e+01 2.700e+01 6.250e+02]\n",
      " [1.300e+01 2.800e+01 2.700e+01 1.215e+03]\n",
      " [1.400e+01 4.100e+01 2.700e+01 2.110e+03]\n",
      " [1.500e+01 5.500e+01 2.700e+01 2.805e+03]\n",
      " [1.600e+01 6.900e+01 2.700e+01 3.255e+03]\n",
      " [1.700e+01 8.300e+01 2.700e+01 4.015e+03]\n",
      " [1.800e+01 9.700e+01 2.700e+01 4.315e+03]\n",
      " [1.900e+01 1.110e+02 2.700e+01 4.495e+03]\n",
      " [2.000e+01 1.250e+02 2.700e+01 4.535e+03]\n",
      " [2.100e+01 1.390e+02 2.700e+01 4.600e+03]\n",
      " [2.200e+01 1.530e+02 2.700e+01 4.600e+03]\n",
      " [2.300e+01 1.400e+01 2.900e+01 5.900e+02]\n",
      " [2.400e+01 2.800e+01 2.900e+01 1.305e+03]\n",
      " [2.500e+01 4.100e+01 2.900e+01 2.140e+03]\n",
      " [2.600e+01 5.500e+01 2.900e+01 2.890e+03]\n",
      " [2.700e+01 6.900e+01 2.900e+01 3.920e+03]\n",
      " [2.800e+01 8.300e+01 2.900e+01 3.920e+03]\n",
      " [2.900e+01 9.700e+01 2.900e+01 4.515e+03]\n",
      " [3.000e+01 1.110e+02 2.900e+01 4.520e+03]\n",
      " [3.100e+01 1.250e+02 2.900e+01 4.525e+03]\n",
      " [3.200e+01 1.390e+02 2.900e+01 4.565e+03]\n",
      " [3.300e+01 1.530e+02 2.900e+01 4.566e+03]\n",
      " [3.400e+01 1.400e+01 3.100e+01 5.900e+02]\n",
      " [3.500e+01 2.800e+01 3.100e+01 1.205e+03]\n",
      " [3.600e+01 4.100e+01 3.100e+01 1.915e+03]\n",
      " [3.700e+01 5.500e+01 3.100e+01 2.140e+03]\n",
      " [3.800e+01 6.900e+01 3.100e+01 2.710e+03]\n",
      " [3.900e+01 8.300e+01 3.100e+01 3.020e+03]\n",
      " [4.000e+01 9.700e+01 3.100e+01 3.030e+03]\n",
      " [4.100e+01 1.110e+02 3.100e+01 3.040e+03]\n",
      " [4.200e+01 1.250e+02 3.100e+01 3.180e+03]\n",
      " [4.300e+01 1.390e+02 3.100e+01 3.257e+03]\n",
      " [4.400e+01 1.530e+02 3.100e+01 3.214e+03]]\n"
     ]
    }
   ],
   "source": [
    "data = np.loadtxt('fish.txt',skiprows=37)\n",
    "x = data[:, 1:3]\n",
    "y = data[:, 3:]\n",
    "print(data)"
   ]
  },
  {
   "cell_type": "code",
   "execution_count": 11,
   "metadata": {},
   "outputs": [
    {
     "name": "stdout",
     "output_type": "stream",
     "text": [
      "M =  [[3904.26601675]\n",
      " [  26.24068177]\n",
      " [-106.41363636]]\n"
     ]
    },
    {
     "data": {
      "image/png": "[encoded data removed]",
      "text/plain": [
       "<Figure size 432x432 with 1 Axes>"
      ]
     },
     "metadata": {
      "needs_background": "light"
     },
     "output_type": "display_data"
    }
   ],
   "source": [
    "x=data[:,1:3]\n",
    "y = data[:, 3:]\n",
    "X = np.concatenate((np.ones(44).reshape(44,1),x),axis=1)  # 10*2 matrix X\n",
    "\n",
    "M = np.linalg.inv(X.transpose().dot(X)).dot(X.transpose()).dot(y)               #M = (X^T*X)^-1*X^T*Y                                \n",
    "print('M = ',M)\n",
    "xx = np.linspace(1, 44, 1000)\n",
    "XX = np.concatenate((np.ones((1000,1)), xx.reshape(1000,1), xx.reshape(1000,1)**2), axis=1)\n",
    "\n",
    "\n",
    "plt.figure(figsize=(6,6))\n",
    "yy = XX.dot(M)\n",
    "plt.plot(xx, yy)\n",
    "plt.plot(x, y, 'o')\n",
    "plt.grid()\n",
    "plt.show()"
   ]
  },
  {
   "cell_type": "code",
   "execution_count": null,
   "metadata": {},
   "outputs": [],
   "source": []
  }
 ],
 "metadata": {
  "kernelspec": {
   "display_name": "Python 3",
   "language": "python",
   "name": "python3"
  },
  "language_info": {
   "codemirror_mode": {
    "name": "ipython",
    "version": 3
   },
   "file_extension": ".py",
   "mimetype": "text/x-python",
   "name": "python",
   "nbconvert_exporter": "python",
   "pygments_lexer": "ipython3",
   "version": "3.7.4"
  }
 },
 "nbformat": 4,
 "nbformat_minor": 2
}
